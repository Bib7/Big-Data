{
 "cells": [
  {
   "cell_type": "markdown",
   "metadata": {},
   "source": [
    "# Big-Data\n",
    "\n",
    "Description"
   ]
  },
  {
   "cell_type": "code",
   "execution_count": null,
   "metadata": {
    "collapsed": false
   },
   "outputs": [],
   "source": [
    "# Install necessary libraries to run this IPython Notebook\n",
    "!pip install folium"
   ]
  },
  {
   "cell_type": "markdown",
   "metadata": {},
   "source": [
    "## Treatment of data"
   ]
  },
  {
   "cell_type": "code",
   "execution_count": null,
   "metadata": {
    "collapsed": false
   },
   "outputs": [],
   "source": [
    "import pandas as pd\n",
    "import numpy as np\n",
    "import folium\n",
    "from folium.plugins import HeatMap"
   ]
  },
  {
   "cell_type": "code",
   "execution_count": null,
   "metadata": {
    "collapsed": true
   },
   "outputs": [],
   "source": [
    "# Load spreadsheet\n",
    "spreadsheet = pd.ExcelFile('imd_student_blind.xlsx')\n",
    "\n",
    "# Load a sheet into a DataFrame by index\n",
    "imd_student_blind_df = spreadsheet.parse(0)"
   ]
  },
  {
   "cell_type": "code",
   "execution_count": null,
   "metadata": {
    "collapsed": false
   },
   "outputs": [],
   "source": [
    "# Print the head of the DataFrame df\n",
    "imd_student_blind_df.head()"
   ]
  },
  {
   "cell_type": "code",
   "execution_count": null,
   "metadata": {
    "collapsed": false
   },
   "outputs": [],
   "source": [
    "# Print the columns' name\n",
    "imd_student_blind_df.columns"
   ]
  },
  {
   "cell_type": "code",
   "execution_count": null,
   "metadata": {
    "collapsed": false
   },
   "outputs": [],
   "source": [
    "imd_student_blind_df.shape"
   ]
  },
  {
   "cell_type": "code",
   "execution_count": null,
   "metadata": {
    "collapsed": false
   },
   "outputs": [],
   "source": [
    "id_by_year = imd_student_blind_df.groupby('ano_ingresso')['a_ID'].count()\n",
    "id_by_year"
   ]
  },
  {
   "cell_type": "code",
   "execution_count": null,
   "metadata": {
    "collapsed": false
   },
   "outputs": [],
   "source": [
    "from bokeh.charts import Bar, Histogram, output_notebook, show\n",
    "\n",
    "p = Bar(id_by_year, values='a_ID', title=\"ID por ano\", color='a_ID')\n",
    "\n",
    "output_notebook()\n",
    "\n",
    "show(p)"
   ]
  },
  {
   "cell_type": "code",
   "execution_count": null,
   "metadata": {
    "collapsed": true
   },
   "outputs": [],
   "source": [
    "# Load geolocation extracted data\n",
    "students_geolocation = pd.read_csv('students_geolocation.csv')"
   ]
  },
  {
   "cell_type": "code",
   "execution_count": null,
   "metadata": {
    "collapsed": false
   },
   "outputs": [],
   "source": [
    "students_geolocation.info()"
   ]
  },
  {
   "cell_type": "code",
   "execution_count": null,
   "metadata": {
    "collapsed": false
   },
   "outputs": [],
   "source": [
    "students_geolocation.head()"
   ]
  },
  {
   "cell_type": "code",
   "execution_count": null,
   "metadata": {
    "collapsed": false
   },
   "outputs": [],
   "source": [
    "grouped_df = imd_student_blind_df.groupby('a_ID')\n",
    "\n",
    "students_summary_df = grouped_df['nota'].agg({\n",
    "    'grades_mean': 'mean',\n",
    "    'grades_amount': 'count',\n",
    "}).reset_index()\n",
    "\n",
    "students_summary_df.rename(\n",
    "    columns = {\n",
    "        'a_ID' : 'id'\n",
    "    },\n",
    "    inplace = True\n",
    ")\n",
    "\n",
    "students_summary_df['distance'] = students_geolocation[students_geolocation['id'] == students_summary_df['id']]['distance']\n",
    "students_summary_df['lat'] = students_geolocation[students_geolocation['id'] == students_summary_df['id']]['lat']\n",
    "students_summary_df['lng'] = students_geolocation[students_geolocation['id'] == students_summary_df['id']]['lng']\n"
   ]
  },
  {
   "cell_type": "code",
   "execution_count": null,
   "metadata": {
    "collapsed": false
   },
   "outputs": [],
   "source": [
    "students_summary_df.head()"
   ]
  },
  {
   "cell_type": "code",
   "execution_count": null,
   "metadata": {
    "collapsed": false
   },
   "outputs": [],
   "source": [
    "grades_x_distance = pd.DataFrame({\n",
    "    'distance': students_summary_df['distance'],\n",
    "    'grades_mean': students_summary_df['grades_mean']\n",
    "})\n",
    "\n",
    "# Drop NaN values\n",
    "grades_x_distance.dropna(inplace = True)\n",
    "\n",
    "# Get only entries that have less than 300km from distance\n",
    "grades_x_distance = grades_x_distance[grades_x_distance['distance'] < 50]"
   ]
  },
  {
   "cell_type": "code",
   "execution_count": null,
   "metadata": {
    "collapsed": false
   },
   "outputs": [],
   "source": [
    "grades_x_distance.info()"
   ]
  },
  {
   "cell_type": "markdown",
   "metadata": {},
   "source": [
    "## Graphics"
   ]
  },
  {
   "cell_type": "code",
   "execution_count": null,
   "metadata": {
    "collapsed": true
   },
   "outputs": [],
   "source": [
    "# Import modules from Bokeh visualization library\n",
    "#import matplotlib.pyplot as plt\n",
    "#from bokeh.models import HoverTool\n",
    "from bokeh.charts import Scatter\n",
    "#from bokeh.layouts import row, gridplot\n",
    "from bokeh.io import output_notebook, show\n",
    "from bokeh.plotting import figure, ColumnDataSource"
   ]
  },
  {
   "cell_type": "code",
   "execution_count": null,
   "metadata": {
    "collapsed": true
   },
   "outputs": [],
   "source": [
    "'''\n",
    "data_groupby = ['ano_disciplina', 'periodo_disciplina', 'disciplina_ID']\n",
    "nota = imd_student_blind_df.groupby(data_groupby)['nota']\n",
    "nota.mean()\n",
    "'''\n",
    "# Gráfico\n",
    "graph_lines = figure(plot_width=900, plot_height=300, title=\"Média de nota de cada disciplina, por período letivo\")\n",
    "colors = ['orange', 'blue', 'red', 'green', 'yellow', 'pink', 'purple', 'brown']\n",
    "i = 0\n",
    "\n",
    "# Array\n",
    "ano_periodo_select = ['ano_disciplina', 'periodo_disciplina']\n",
    "\n",
    "# Imprimir linhas de cada disciplina\n",
    "for disciplina_ID in imd_student_blind_df['disciplina_ID'].unique():\n",
    "    # Dados da disciplina\n",
    "    data_disciplina = imd_student_blind_df[imd_student_blind_df['disciplina_ID'] == disciplina_ID]\n",
    "    # Percorre o ano e o período\n",
    "    ano_periodo = data_disciplina[ano_periodo_select].drop_duplicates()\n",
    "    xline = []\n",
    "    yline = []\n",
    "    \n",
    "    for ano in ano_periodo['ano_disciplina'].sort_values().unique():\n",
    "        periodos_data = data_disciplina[data_disciplina['ano_disciplina'] == ano][['periodo_disciplina', 'nota']].sort_values('periodo_disciplina')\n",
    "        for periodo in ano_periodo['periodo_disciplina'].sort_values().unique():\n",
    "            # Se foi no primeiro ou segundo período\n",
    "            if(periodo == 2):\n",
    "                periodo_graph = 5\n",
    "            else:\n",
    "                periodo_graph = 0\n",
    "            # X\n",
    "            ap = \"{0}.{1}\".format(ano, periodo_graph)\n",
    "            xline.append(float(ap))\n",
    "            # Y\n",
    "            media_periodo = periodos_data[periodos_data['periodo_disciplina'] == periodo]['nota'].mean()\n",
    "            yline.append(float(media_periodo))\n",
    "    # Data source para criar a linha\n",
    "    line_disciplina_ds = ColumnDataSource(\n",
    "        data=dict(\n",
    "            x=xline,\n",
    "            y=yline\n",
    "        )\n",
    "    )\n",
    "    title = '{0}'.format(disciplina_ID)\n",
    "    graph_lines.line('x', 'y', line_width=3, source=line_disciplina_ds, legend=title, color=colors[i])\n",
    "    graph_lines.circle(xline, yline, color=colors[i], size=6, alpha=1.0)\n",
    "    i += 1 # Avança no contador de cor\n",
    "    \n",
    "output_notebook()\n",
    "show(graph_lines)"
   ]
  },
  {
   "cell_type": "code",
   "execution_count": null,
   "metadata": {
    "collapsed": false
   },
   "outputs": [],
   "source": [
    "p_grades_x_distance = Scatter(\n",
    "        grades_x_distance,\n",
    "        x='grades_mean',\n",
    "        y='distance', \n",
    "        xlabel='Grades Mean',\n",
    "        ylabel='Distance from IMD in kilometers',\n",
    "        title='Grades Mean vs Distance from IMD',\n",
    "        plot_width=800, plot_height=400\n",
    ")\n",
    "\n",
    "output_notebook()\n",
    "\n",
    "show(p_grades_x_distance)"
   ]
  },
  {
   "cell_type": "code",
   "execution_count": null,
   "metadata": {
    "collapsed": false
   },
   "outputs": [],
   "source": [
    "# Create a coordinates list with the filtered data and show the heatmap\n",
    "\n",
    "coordinates = []\n",
    "\n",
    "for i in range(len(students_summary_df)):\n",
    "    if all(~np.isnan([students_summary_df.ix[i,'lat'], students_summary_df.ix[i,'lng']])):\n",
    "        coordinates.append([students_summary_df.ix[i,'lat'], students_summary_df.ix[i,'lng'], students_summary_df.ix[i,'grades_mean']])\n",
    "        \n",
    "f_map = folium.Map(\n",
    "    location = [-5.791659, -35.28385],\n",
    "    zoom_start = 11\n",
    ")\n",
    "\n",
    "HeatMap(coordinates).add_to(f_map)\n",
    "\n",
    "f_map"
   ]
  },
  {
   "cell_type": "code",
   "execution_count": null,
   "metadata": {
    "collapsed": true
   },
   "outputs": [],
   "source": []
  }
 ],
 "metadata": {
  "kernelspec": {
   "display_name": "Python 3",
   "language": "python",
   "name": "python3"
  },
  "language_info": {
   "codemirror_mode": {
    "name": "ipython",
    "version": 3
   },
   "file_extension": ".py",
   "mimetype": "text/x-python",
   "name": "python",
   "nbconvert_exporter": "python",
   "pygments_lexer": "ipython3",
   "version": "3.6.0"
  }
 },
 "nbformat": 4,
 "nbformat_minor": 2
}
