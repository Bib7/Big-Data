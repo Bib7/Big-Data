{
 "cells": [
  {
   "cell_type": "code",
   "execution_count": 2,
   "metadata": {
    "collapsed": false
   },
   "outputs": [
    {
     "name": "stdout",
     "output_type": "stream",
     "text": [
      "['Sheet1']\n"
     ]
    }
   ],
   "source": [
    "# Import pandas\n",
    "import pandas as pd\n",
    "\n",
    "# Assign spreadsheet filename: file\n",
    "file = 'imd_student_blind.xlsx'\n",
    "\n",
    "# Load spreadsheet: xl\n",
    "xl = pd.ExcelFile(file)\n",
    "\n",
    "# Print sheet names\n",
    "print(xl.sheet_names)"
   ]
  },
  {
   "cell_type": "code",
   "execution_count": 3,
   "metadata": {
    "collapsed": false
   },
   "outputs": [
    {
     "data": {
      "text/html": [
       "<div>\n",
       "<table border=\"1\" class=\"dataframe\">\n",
       "  <thead>\n",
       "    <tr style=\"text-align: right;\">\n",
       "      <th></th>\n",
       "      <th>a_ID</th>\n",
       "      <th>CEP</th>\n",
       "      <th>ano_ingresso</th>\n",
       "      <th>periodo_ingresso</th>\n",
       "      <th>status</th>\n",
       "      <th>ano_disciplina</th>\n",
       "      <th>periodo_disciplina</th>\n",
       "      <th>nota</th>\n",
       "      <th>disciplina_ID</th>\n",
       "      <th>status.disciplina</th>\n",
       "    </tr>\n",
       "  </thead>\n",
       "  <tbody>\n",
       "    <tr>\n",
       "      <th>0</th>\n",
       "      <td>0</td>\n",
       "      <td>59015430</td>\n",
       "      <td>2014</td>\n",
       "      <td>1</td>\n",
       "      <td>CANCELADO</td>\n",
       "      <td>2014</td>\n",
       "      <td>2</td>\n",
       "      <td>2.6</td>\n",
       "      <td>0</td>\n",
       "      <td>Reprovado</td>\n",
       "    </tr>\n",
       "    <tr>\n",
       "      <th>1</th>\n",
       "      <td>0</td>\n",
       "      <td>59015430</td>\n",
       "      <td>2014</td>\n",
       "      <td>1</td>\n",
       "      <td>CANCELADO</td>\n",
       "      <td>2015</td>\n",
       "      <td>1</td>\n",
       "      <td>8.0</td>\n",
       "      <td>0</td>\n",
       "      <td>Aprovado</td>\n",
       "    </tr>\n",
       "    <tr>\n",
       "      <th>2</th>\n",
       "      <td>1</td>\n",
       "      <td>59073120</td>\n",
       "      <td>2014</td>\n",
       "      <td>1</td>\n",
       "      <td>CANCELADO</td>\n",
       "      <td>2014</td>\n",
       "      <td>2</td>\n",
       "      <td>0.1</td>\n",
       "      <td>0</td>\n",
       "      <td>Reprovado</td>\n",
       "    </tr>\n",
       "    <tr>\n",
       "      <th>3</th>\n",
       "      <td>2</td>\n",
       "      <td>59072580</td>\n",
       "      <td>2014</td>\n",
       "      <td>1</td>\n",
       "      <td>ATIVO</td>\n",
       "      <td>2014</td>\n",
       "      <td>2</td>\n",
       "      <td>6.1</td>\n",
       "      <td>0</td>\n",
       "      <td>Aprovado</td>\n",
       "    </tr>\n",
       "    <tr>\n",
       "      <th>4</th>\n",
       "      <td>3</td>\n",
       "      <td>59088150</td>\n",
       "      <td>2014</td>\n",
       "      <td>1</td>\n",
       "      <td>ATIVO</td>\n",
       "      <td>2014</td>\n",
       "      <td>1</td>\n",
       "      <td>3.0</td>\n",
       "      <td>0</td>\n",
       "      <td>Reprovado</td>\n",
       "    </tr>\n",
       "  </tbody>\n",
       "</table>\n",
       "</div>"
      ],
      "text/plain": [
       "   a_ID       CEP  ano_ingresso  periodo_ingresso     status  ano_disciplina  \\\n",
       "0     0  59015430          2014                 1  CANCELADO            2014   \n",
       "1     0  59015430          2014                 1  CANCELADO            2015   \n",
       "2     1  59073120          2014                 1  CANCELADO            2014   \n",
       "3     2  59072580          2014                 1      ATIVO            2014   \n",
       "4     3  59088150          2014                 1      ATIVO            2014   \n",
       "\n",
       "   periodo_disciplina  nota  disciplina_ID status.disciplina  \n",
       "0                   2   2.6              0         Reprovado  \n",
       "1                   1   8.0              0          Aprovado  \n",
       "2                   2   0.1              0         Reprovado  \n",
       "3                   2   6.1              0          Aprovado  \n",
       "4                   1   3.0              0         Reprovado  "
      ]
     },
     "execution_count": 3,
     "metadata": {},
     "output_type": "execute_result"
    }
   ],
   "source": [
    "# Load a sheet into a DataFrame by index: df\n",
    "df = xl.parse(0)\n",
    "\n",
    "# Print the head of the DataFrame df\n",
    "df.head()"
   ]
  },
  {
   "cell_type": "code",
   "execution_count": 16,
   "metadata": {
    "collapsed": false
   },
   "outputs": [
    {
     "data": {
      "text/plain": [
       "Index(['a_ID', 'CEP', 'ano_ingresso', 'periodo_ingresso', 'status',\n",
       "       'ano_disciplina', 'periodo_disciplina', 'nota', 'disciplina_ID',\n",
       "       'status.disciplina'],\n",
       "      dtype='object')"
      ]
     },
     "execution_count": 16,
     "metadata": {},
     "output_type": "execute_result"
    }
   ],
   "source": [
    "df.columns"
   ]
  },
  {
   "cell_type": "code",
   "execution_count": 5,
   "metadata": {
    "collapsed": false
   },
   "outputs": [
    {
     "data": {
      "text/plain": [
       "(4842, 10)"
      ]
     },
     "execution_count": 5,
     "metadata": {},
     "output_type": "execute_result"
    }
   ],
   "source": [
    "df.shape"
   ]
  },
  {
   "cell_type": "code",
   "execution_count": 10,
   "metadata": {
    "collapsed": false
   },
   "outputs": [
    {
     "data": {
      "text/plain": [
       "ano_ingresso\n",
       "2014    1600\n",
       "2015    1980\n",
       "2016    1262\n",
       "Name: a_ID, dtype: int64"
      ]
     },
     "execution_count": 10,
     "metadata": {},
     "output_type": "execute_result"
    }
   ],
   "source": [
    "id_by_year = df.groupby('ano_ingresso')['a_ID'].count()\n",
    "id_by_year"
   ]
  },
  {
   "cell_type": "code",
   "execution_count": 11,
   "metadata": {
    "collapsed": false
   },
   "outputs": [
    {
     "data": {
      "text/html": [
       "\n",
       "    <div class=\"bk-root\">\n",
       "        <a href=\"http://bokeh.pydata.org\" target=\"_blank\" class=\"bk-logo bk-logo-small bk-logo-notebook\"></a>\n",
       "        <span id=\"be4c2e27-1c80-499d-9e6b-5d24dcc8abcd\">Loading BokehJS ...</span>\n",
       "    </div>"
      ]
     },
     "metadata": {},
     "output_type": "display_data"
    },
    {
     "data": {
      "application/javascript": [
       "\n",
       "(function(global) {\n",
       "  function now() {\n",
       "    return new Date();\n",
       "  }\n",
       "\n",
       "  var force = true;\n",
       "\n",
       "  if (typeof (window._bokeh_onload_callbacks) === \"undefined\" || force === true) {\n",
       "    window._bokeh_onload_callbacks = [];\n",
       "    window._bokeh_is_loading = undefined;\n",
       "  }\n",
       "\n",
       "\n",
       "  \n",
       "  if (typeof (window._bokeh_timeout) === \"undefined\" || force === true) {\n",
       "    window._bokeh_timeout = Date.now() + 5000;\n",
       "    window._bokeh_failed_load = false;\n",
       "  }\n",
       "\n",
       "  var NB_LOAD_WARNING = {'data': {'text/html':\n",
       "     \"<div style='background-color: #fdd'>\\n\"+\n",
       "     \"<p>\\n\"+\n",
       "     \"BokehJS does not appear to have successfully loaded. If loading BokehJS from CDN, this \\n\"+\n",
       "     \"may be due to a slow or bad network connection. Possible fixes:\\n\"+\n",
       "     \"</p>\\n\"+\n",
       "     \"<ul>\\n\"+\n",
       "     \"<li>re-rerun `output_notebook()` to attempt to load from CDN again, or</li>\\n\"+\n",
       "     \"<li>use INLINE resources instead, as so:</li>\\n\"+\n",
       "     \"</ul>\\n\"+\n",
       "     \"<code>\\n\"+\n",
       "     \"from bokeh.resources import INLINE\\n\"+\n",
       "     \"output_notebook(resources=INLINE)\\n\"+\n",
       "     \"</code>\\n\"+\n",
       "     \"</div>\"}};\n",
       "\n",
       "  function display_loaded() {\n",
       "    if (window.Bokeh !== undefined) {\n",
       "      document.getElementById(\"be4c2e27-1c80-499d-9e6b-5d24dcc8abcd\").textContent = \"BokehJS successfully loaded.\";\n",
       "    } else if (Date.now() < window._bokeh_timeout) {\n",
       "      setTimeout(display_loaded, 100)\n",
       "    }\n",
       "  }\n",
       "\n",
       "  function run_callbacks() {\n",
       "    window._bokeh_onload_callbacks.forEach(function(callback) { callback() });\n",
       "    delete window._bokeh_onload_callbacks\n",
       "    console.info(\"Bokeh: all callbacks have finished\");\n",
       "  }\n",
       "\n",
       "  function load_libs(js_urls, callback) {\n",
       "    window._bokeh_onload_callbacks.push(callback);\n",
       "    if (window._bokeh_is_loading > 0) {\n",
       "      console.log(\"Bokeh: BokehJS is being loaded, scheduling callback at\", now());\n",
       "      return null;\n",
       "    }\n",
       "    if (js_urls == null || js_urls.length === 0) {\n",
       "      run_callbacks();\n",
       "      return null;\n",
       "    }\n",
       "    console.log(\"Bokeh: BokehJS not loaded, scheduling load and callback at\", now());\n",
       "    window._bokeh_is_loading = js_urls.length;\n",
       "    for (var i = 0; i < js_urls.length; i++) {\n",
       "      var url = js_urls[i];\n",
       "      var s = document.createElement('script');\n",
       "      s.src = url;\n",
       "      s.async = false;\n",
       "      s.onreadystatechange = s.onload = function() {\n",
       "        window._bokeh_is_loading--;\n",
       "        if (window._bokeh_is_loading === 0) {\n",
       "          console.log(\"Bokeh: all BokehJS libraries loaded\");\n",
       "          run_callbacks()\n",
       "        }\n",
       "      };\n",
       "      s.onerror = function() {\n",
       "        console.warn(\"failed to load library \" + url);\n",
       "      };\n",
       "      console.log(\"Bokeh: injecting script tag for BokehJS library: \", url);\n",
       "      document.getElementsByTagName(\"head\")[0].appendChild(s);\n",
       "    }\n",
       "  };var element = document.getElementById(\"be4c2e27-1c80-499d-9e6b-5d24dcc8abcd\");\n",
       "  if (element == null) {\n",
       "    console.log(\"Bokeh: ERROR: autoload.js configured with elementid 'be4c2e27-1c80-499d-9e6b-5d24dcc8abcd' but no matching script tag was found. \")\n",
       "    return false;\n",
       "  }\n",
       "\n",
       "  var js_urls = [\"https://cdn.pydata.org/bokeh/release/bokeh-0.12.4.min.js\", \"https://cdn.pydata.org/bokeh/release/bokeh-widgets-0.12.4.min.js\"];\n",
       "\n",
       "  var inline_js = [\n",
       "    function(Bokeh) {\n",
       "      Bokeh.set_log_level(\"info\");\n",
       "    },\n",
       "    \n",
       "    function(Bokeh) {\n",
       "      \n",
       "      document.getElementById(\"be4c2e27-1c80-499d-9e6b-5d24dcc8abcd\").textContent = \"BokehJS is loading...\";\n",
       "    },\n",
       "    function(Bokeh) {\n",
       "      console.log(\"Bokeh: injecting CSS: https://cdn.pydata.org/bokeh/release/bokeh-0.12.4.min.css\");\n",
       "      Bokeh.embed.inject_css(\"https://cdn.pydata.org/bokeh/release/bokeh-0.12.4.min.css\");\n",
       "      console.log(\"Bokeh: injecting CSS: https://cdn.pydata.org/bokeh/release/bokeh-widgets-0.12.4.min.css\");\n",
       "      Bokeh.embed.inject_css(\"https://cdn.pydata.org/bokeh/release/bokeh-widgets-0.12.4.min.css\");\n",
       "    }\n",
       "  ];\n",
       "\n",
       "  function run_inline_js() {\n",
       "    \n",
       "    if ((window.Bokeh !== undefined) || (force === true)) {\n",
       "      for (var i = 0; i < inline_js.length; i++) {\n",
       "        inline_js[i](window.Bokeh);\n",
       "      }if (force === true) {\n",
       "        display_loaded();\n",
       "      }} else if (Date.now() < window._bokeh_timeout) {\n",
       "      setTimeout(run_inline_js, 100);\n",
       "    } else if (!window._bokeh_failed_load) {\n",
       "      console.log(\"Bokeh: BokehJS failed to load within specified timeout.\");\n",
       "      window._bokeh_failed_load = true;\n",
       "    } else if (force !== true) {\n",
       "      var cell = $(document.getElementById(\"be4c2e27-1c80-499d-9e6b-5d24dcc8abcd\")).parents('.cell').data().cell;\n",
       "      cell.output_area.append_execute_result(NB_LOAD_WARNING)\n",
       "    }\n",
       "\n",
       "  }\n",
       "\n",
       "  if (window._bokeh_is_loading === 0) {\n",
       "    console.log(\"Bokeh: BokehJS loaded, going straight to plotting\");\n",
       "    run_inline_js();\n",
       "  } else {\n",
       "    load_libs(js_urls, function() {\n",
       "      console.log(\"Bokeh: BokehJS plotting callback run at\", now());\n",
       "      run_inline_js();\n",
       "    });\n",
       "  }\n",
       "}(this));"
      ]
     },
     "metadata": {},
     "output_type": "display_data"
    },
    {
     "data": {
      "text/html": [
       "\n",
       "\n",
       "    <div class=\"bk-root\">\n",
       "        <div class=\"bk-plotdiv\" id=\"5025d645-75dd-4315-bd1c-5c742db943ab\"></div>\n",
       "    </div>\n",
       "<script type=\"text/javascript\">\n",
       "  \n",
       "  (function(global) {\n",
       "    function now() {\n",
       "      return new Date();\n",
       "    }\n",
       "  \n",
       "    var force = false;\n",
       "  \n",
       "    if (typeof (window._bokeh_onload_callbacks) === \"undefined\" || force === true) {\n",
       "      window._bokeh_onload_callbacks = [];\n",
       "      window._bokeh_is_loading = undefined;\n",
       "    }\n",
       "  \n",
       "  \n",
       "    \n",
       "    if (typeof (window._bokeh_timeout) === \"undefined\" || force === true) {\n",
       "      window._bokeh_timeout = Date.now() + 0;\n",
       "      window._bokeh_failed_load = false;\n",
       "    }\n",
       "  \n",
       "    var NB_LOAD_WARNING = {'data': {'text/html':\n",
       "       \"<div style='background-color: #fdd'>\\n\"+\n",
       "       \"<p>\\n\"+\n",
       "       \"BokehJS does not appear to have successfully loaded. If loading BokehJS from CDN, this \\n\"+\n",
       "       \"may be due to a slow or bad network connection. Possible fixes:\\n\"+\n",
       "       \"</p>\\n\"+\n",
       "       \"<ul>\\n\"+\n",
       "       \"<li>re-rerun `output_notebook()` to attempt to load from CDN again, or</li>\\n\"+\n",
       "       \"<li>use INLINE resources instead, as so:</li>\\n\"+\n",
       "       \"</ul>\\n\"+\n",
       "       \"<code>\\n\"+\n",
       "       \"from bokeh.resources import INLINE\\n\"+\n",
       "       \"output_notebook(resources=INLINE)\\n\"+\n",
       "       \"</code>\\n\"+\n",
       "       \"</div>\"}};\n",
       "  \n",
       "    function display_loaded() {\n",
       "      if (window.Bokeh !== undefined) {\n",
       "        document.getElementById(\"5025d645-75dd-4315-bd1c-5c742db943ab\").textContent = \"BokehJS successfully loaded.\";\n",
       "      } else if (Date.now() < window._bokeh_timeout) {\n",
       "        setTimeout(display_loaded, 100)\n",
       "      }\n",
       "    }\n",
       "  \n",
       "    function run_callbacks() {\n",
       "      window._bokeh_onload_callbacks.forEach(function(callback) { callback() });\n",
       "      delete window._bokeh_onload_callbacks\n",
       "      console.info(\"Bokeh: all callbacks have finished\");\n",
       "    }\n",
       "  \n",
       "    function load_libs(js_urls, callback) {\n",
       "      window._bokeh_onload_callbacks.push(callback);\n",
       "      if (window._bokeh_is_loading > 0) {\n",
       "        console.log(\"Bokeh: BokehJS is being loaded, scheduling callback at\", now());\n",
       "        return null;\n",
       "      }\n",
       "      if (js_urls == null || js_urls.length === 0) {\n",
       "        run_callbacks();\n",
       "        return null;\n",
       "      }\n",
       "      console.log(\"Bokeh: BokehJS not loaded, scheduling load and callback at\", now());\n",
       "      window._bokeh_is_loading = js_urls.length;\n",
       "      for (var i = 0; i < js_urls.length; i++) {\n",
       "        var url = js_urls[i];\n",
       "        var s = document.createElement('script');\n",
       "        s.src = url;\n",
       "        s.async = false;\n",
       "        s.onreadystatechange = s.onload = function() {\n",
       "          window._bokeh_is_loading--;\n",
       "          if (window._bokeh_is_loading === 0) {\n",
       "            console.log(\"Bokeh: all BokehJS libraries loaded\");\n",
       "            run_callbacks()\n",
       "          }\n",
       "        };\n",
       "        s.onerror = function() {\n",
       "          console.warn(\"failed to load library \" + url);\n",
       "        };\n",
       "        console.log(\"Bokeh: injecting script tag for BokehJS library: \", url);\n",
       "        document.getElementsByTagName(\"head\")[0].appendChild(s);\n",
       "      }\n",
       "    };var element = document.getElementById(\"5025d645-75dd-4315-bd1c-5c742db943ab\");\n",
       "    if (element == null) {\n",
       "      console.log(\"Bokeh: ERROR: autoload.js configured with elementid '5025d645-75dd-4315-bd1c-5c742db943ab' but no matching script tag was found. \")\n",
       "      return false;\n",
       "    }\n",
       "  \n",
       "    var js_urls = [];\n",
       "  \n",
       "    var inline_js = [\n",
       "      function(Bokeh) {\n",
       "        (function() {\n",
       "          var fn = function() {\n",
       "            var docs_json = {\"4c11e328-1267-41c1-836c-316b4da69324\":{\"roots\":{\"references\":[{\"attributes\":{\"bottom_units\":\"screen\",\"fill_alpha\":{\"value\":0.5},\"fill_color\":{\"value\":\"lightgrey\"},\"left_units\":\"screen\",\"level\":\"overlay\",\"line_alpha\":{\"value\":1.0},\"line_color\":{\"value\":\"black\"},\"line_dash\":[4,4],\"line_width\":{\"value\":2},\"plot\":null,\"render_mode\":\"css\",\"right_units\":\"screen\",\"top_units\":\"screen\"},\"id\":\"06ce019c-e7dd-4409-991c-5ead29ceffdc\",\"type\":\"BoxAnnotation\"},{\"attributes\":{\"plot\":{\"id\":\"eca89c61-7365-41b8-ae12-08d60cc1d7af\",\"subtype\":\"Chart\",\"type\":\"Plot\"}},\"id\":\"4fb1c9dc-dbd8-4461-9219-8d7a9a4d9a10\",\"type\":\"PanTool\"},{\"attributes\":{\"plot\":{\"id\":\"eca89c61-7365-41b8-ae12-08d60cc1d7af\",\"subtype\":\"Chart\",\"type\":\"Plot\"}},\"id\":\"e1723e51-e517-409a-ad5d-a1f13f324091\",\"type\":\"WheelZoomTool\"},{\"attributes\":{\"overlay\":{\"id\":\"06ce019c-e7dd-4409-991c-5ead29ceffdc\",\"type\":\"BoxAnnotation\"},\"plot\":{\"id\":\"eca89c61-7365-41b8-ae12-08d60cc1d7af\",\"subtype\":\"Chart\",\"type\":\"Plot\"}},\"id\":\"fc0b624d-3fab-4fad-bffd-523d33c79631\",\"type\":\"BoxZoomTool\"},{\"attributes\":{\"plot\":{\"id\":\"eca89c61-7365-41b8-ae12-08d60cc1d7af\",\"subtype\":\"Chart\",\"type\":\"Plot\"}},\"id\":\"c4fd32c8-688c-4ccb-bced-9c08f72eb4c9\",\"type\":\"SaveTool\"},{\"attributes\":{\"plot\":{\"id\":\"eca89c61-7365-41b8-ae12-08d60cc1d7af\",\"subtype\":\"Chart\",\"type\":\"Plot\"}},\"id\":\"aa162df7-4f4c-44ba-a0ec-547448770a05\",\"type\":\"ResetTool\"},{\"attributes\":{\"plot\":{\"id\":\"eca89c61-7365-41b8-ae12-08d60cc1d7af\",\"subtype\":\"Chart\",\"type\":\"Plot\"}},\"id\":\"4061ea2a-3646-4dad-8897-326870ae23fa\",\"type\":\"HelpTool\"},{\"attributes\":{\"formatter\":{\"id\":\"6482ff48-568b-4851-9187-142fddd95c6e\",\"type\":\"CategoricalTickFormatter\"},\"major_label_orientation\":0.7853981633974483,\"plot\":{\"id\":\"eca89c61-7365-41b8-ae12-08d60cc1d7af\",\"subtype\":\"Chart\",\"type\":\"Plot\"},\"ticker\":{\"id\":\"1638bc69-05b5-4d3f-b174-7b576e24afd3\",\"type\":\"CategoricalTicker\"}},\"id\":\"8bc6579f-5b48-4e95-99cb-c1783bfc21ef\",\"type\":\"CategoricalAxis\"},{\"attributes\":{},\"id\":\"d66594d2-b7f9-4591-a05b-21c0159b854f\",\"type\":\"BasicTicker\"},{\"attributes\":{\"label\":{\"value\":\"(2015, 1980)\"},\"renderers\":[{\"id\":\"0fcd0710-f2a2-4201-8acd-4ead51a9812c\",\"type\":\"GlyphRenderer\"}]},\"id\":\"e5d84405-f068-4522-b368-4b8c30822d6c\",\"type\":\"LegendItem\"},{\"attributes\":{},\"id\":\"1638bc69-05b5-4d3f-b174-7b576e24afd3\",\"type\":\"CategoricalTicker\"},{\"attributes\":{},\"id\":\"1262957f-c2e7-42f5-85ac-9b4ec924bf83\",\"type\":\"BasicTickFormatter\"},{\"attributes\":{\"label\":{\"value\":\"(2014, 1600)\"},\"renderers\":[{\"id\":\"9fb5b638-4602-49a3-9c8b-3015c2badf9a\",\"type\":\"GlyphRenderer\"}]},\"id\":\"4db0c205-df93-4254-99f5-54f29e9318bd\",\"type\":\"LegendItem\"},{\"attributes\":{\"label\":{\"value\":\"(2016, 1262)\"},\"renderers\":[{\"id\":\"f5e6441a-1be1-4412-8c64-f8ca7fb817ab\",\"type\":\"GlyphRenderer\"}]},\"id\":\"eeddd6e3-a008-4262-87a6-66fa2aedf620\",\"type\":\"LegendItem\"},{\"attributes\":{\"items\":[{\"id\":\"4db0c205-df93-4254-99f5-54f29e9318bd\",\"type\":\"LegendItem\"},{\"id\":\"e5d84405-f068-4522-b368-4b8c30822d6c\",\"type\":\"LegendItem\"},{\"id\":\"eeddd6e3-a008-4262-87a6-66fa2aedf620\",\"type\":\"LegendItem\"}],\"location\":\"top_left\",\"plot\":{\"id\":\"eca89c61-7365-41b8-ae12-08d60cc1d7af\",\"subtype\":\"Chart\",\"type\":\"Plot\"}},\"id\":\"2377aa01-59d0-4f01-aac1-a55511bc720f\",\"type\":\"Legend\"},{\"attributes\":{\"callback\":null,\"column_names\":[\"x\",\"y\",\"width\",\"height\",\"color\",\"fill_alpha\",\"line_color\",\"line_alpha\",\"label\"],\"data\":{\"a_ID\":[1262],\"chart_index\":[{\"a_ID\":1262,\"index\":2016}],\"color\":[\"#f22c40\"],\"fill_alpha\":[0.8],\"height\":[1262.0],\"index\":[2016],\"label\":[{\"a_ID\":1262,\"index\":2016}],\"line_alpha\":[1.0],\"line_color\":[\"white\"],\"width\":[0.8],\"x\":[\"2016\"],\"y\":[631.0]}},\"id\":\"fba34f87-0de4-4c36-a712-154da98f5a51\",\"type\":\"ColumnDataSource\"},{\"attributes\":{\"fill_alpha\":{\"field\":\"fill_alpha\"},\"fill_color\":{\"field\":\"color\"},\"height\":{\"field\":\"height\",\"units\":\"data\"},\"line_color\":{\"field\":\"line_color\"},\"width\":{\"field\":\"width\",\"units\":\"data\"},\"x\":{\"field\":\"x\"},\"y\":{\"field\":\"y\"}},\"id\":\"4bb9597a-0b3f-445b-890f-36b897e15f49\",\"type\":\"Rect\"},{\"attributes\":{\"callback\":null,\"factors\":[\"2014\",\"2015\",\"2016\"]},\"id\":\"cff66a93-bf09-417c-852a-9dcec27bcab4\",\"type\":\"FactorRange\"},{\"attributes\":{},\"id\":\"127fd5d1-1441-4bd6-b207-648be17921e6\",\"type\":\"ToolEvents\"},{\"attributes\":{\"axis_label\":\"Sum( A_Id )\",\"formatter\":{\"id\":\"1262957f-c2e7-42f5-85ac-9b4ec924bf83\",\"type\":\"BasicTickFormatter\"},\"plot\":{\"id\":\"eca89c61-7365-41b8-ae12-08d60cc1d7af\",\"subtype\":\"Chart\",\"type\":\"Plot\"},\"ticker\":{\"id\":\"d66594d2-b7f9-4591-a05b-21c0159b854f\",\"type\":\"BasicTicker\"}},\"id\":\"0e7bbe03-d384-4f8a-bab6-00c6adf9066a\",\"type\":\"LinearAxis\"},{\"attributes\":{\"dimension\":1,\"plot\":{\"id\":\"eca89c61-7365-41b8-ae12-08d60cc1d7af\",\"subtype\":\"Chart\",\"type\":\"Plot\"},\"ticker\":{\"id\":\"d66594d2-b7f9-4591-a05b-21c0159b854f\",\"type\":\"BasicTicker\"}},\"id\":\"ee65f4bc-ef20-40f5-a15b-88a8f0766e6f\",\"type\":\"Grid\"},{\"attributes\":{\"callback\":null,\"column_names\":[\"x\",\"y\",\"width\",\"height\",\"color\",\"fill_alpha\",\"line_color\",\"line_alpha\",\"label\"],\"data\":{\"a_ID\":[1600],\"chart_index\":[{\"a_ID\":1600,\"index\":2014}],\"color\":[\"#5ab738\"],\"fill_alpha\":[0.8],\"height\":[1600.0],\"index\":[2014],\"label\":[{\"a_ID\":1600,\"index\":2014}],\"line_alpha\":[1.0],\"line_color\":[\"white\"],\"width\":[0.8],\"x\":[\"2014\"],\"y\":[800.0]}},\"id\":\"65fbeaee-d080-4df7-9b42-3ca16ed37d9a\",\"type\":\"ColumnDataSource\"},{\"attributes\":{\"data_source\":{\"id\":\"65fbeaee-d080-4df7-9b42-3ca16ed37d9a\",\"type\":\"ColumnDataSource\"},\"glyph\":{\"id\":\"4e554846-41e2-4895-9ad9-4444abff1d25\",\"type\":\"Rect\"},\"hover_glyph\":null,\"nonselection_glyph\":null,\"selection_glyph\":null},\"id\":\"9fb5b638-4602-49a3-9c8b-3015c2badf9a\",\"type\":\"GlyphRenderer\"},{\"attributes\":{\"data_source\":{\"id\":\"fba34f87-0de4-4c36-a712-154da98f5a51\",\"type\":\"ColumnDataSource\"},\"glyph\":{\"id\":\"4bb9597a-0b3f-445b-890f-36b897e15f49\",\"type\":\"Rect\"},\"hover_glyph\":null,\"nonselection_glyph\":null,\"selection_glyph\":null},\"id\":\"f5e6441a-1be1-4412-8c64-f8ca7fb817ab\",\"type\":\"GlyphRenderer\"},{\"attributes\":{},\"id\":\"6482ff48-568b-4851-9187-142fddd95c6e\",\"type\":\"CategoricalTickFormatter\"},{\"attributes\":{\"fill_alpha\":{\"field\":\"fill_alpha\"},\"fill_color\":{\"field\":\"color\"},\"height\":{\"field\":\"height\",\"units\":\"data\"},\"line_color\":{\"field\":\"line_color\"},\"width\":{\"field\":\"width\",\"units\":\"data\"},\"x\":{\"field\":\"x\"},\"y\":{\"field\":\"y\"}},\"id\":\"d6b30cdc-79d3-44bd-b302-caca4c17c674\",\"type\":\"Rect\"},{\"attributes\":{\"fill_alpha\":{\"field\":\"fill_alpha\"},\"fill_color\":{\"field\":\"color\"},\"height\":{\"field\":\"height\",\"units\":\"data\"},\"line_color\":{\"field\":\"line_color\"},\"width\":{\"field\":\"width\",\"units\":\"data\"},\"x\":{\"field\":\"x\"},\"y\":{\"field\":\"y\"}},\"id\":\"4e554846-41e2-4895-9ad9-4444abff1d25\",\"type\":\"Rect\"},{\"attributes\":{\"callback\":null,\"column_names\":[\"x\",\"y\",\"width\",\"height\",\"color\",\"fill_alpha\",\"line_color\",\"line_alpha\",\"label\"],\"data\":{\"a_ID\":[1980],\"chart_index\":[{\"a_ID\":1980,\"index\":2015}],\"color\":[\"#407ee7\"],\"fill_alpha\":[0.8],\"height\":[1980.0],\"index\":[2015],\"label\":[{\"a_ID\":1980,\"index\":2015}],\"line_alpha\":[1.0],\"line_color\":[\"white\"],\"width\":[0.8],\"x\":[\"2015\"],\"y\":[990.0]}},\"id\":\"bf2d1da7-44ae-4ca3-81fd-1fec1d3fd185\",\"type\":\"ColumnDataSource\"},{\"attributes\":{\"callback\":null,\"end\":2079.0},\"id\":\"e9ab42fa-fd50-4ea7-9b46-98fe6c078d36\",\"type\":\"Range1d\"},{\"attributes\":{\"active_drag\":\"auto\",\"active_scroll\":\"auto\",\"active_tap\":\"auto\",\"tools\":[{\"id\":\"4fb1c9dc-dbd8-4461-9219-8d7a9a4d9a10\",\"type\":\"PanTool\"},{\"id\":\"e1723e51-e517-409a-ad5d-a1f13f324091\",\"type\":\"WheelZoomTool\"},{\"id\":\"fc0b624d-3fab-4fad-bffd-523d33c79631\",\"type\":\"BoxZoomTool\"},{\"id\":\"c4fd32c8-688c-4ccb-bced-9c08f72eb4c9\",\"type\":\"SaveTool\"},{\"id\":\"aa162df7-4f4c-44ba-a0ec-547448770a05\",\"type\":\"ResetTool\"},{\"id\":\"4061ea2a-3646-4dad-8897-326870ae23fa\",\"type\":\"HelpTool\"}]},\"id\":\"ec12494b-d02f-457d-8f33-532b5b80c71f\",\"type\":\"Toolbar\"},{\"attributes\":{\"below\":[{\"id\":\"8bc6579f-5b48-4e95-99cb-c1783bfc21ef\",\"type\":\"CategoricalAxis\"}],\"css_classes\":null,\"left\":[{\"id\":\"0e7bbe03-d384-4f8a-bab6-00c6adf9066a\",\"type\":\"LinearAxis\"}],\"renderers\":[{\"id\":\"06ce019c-e7dd-4409-991c-5ead29ceffdc\",\"type\":\"BoxAnnotation\"},{\"id\":\"9fb5b638-4602-49a3-9c8b-3015c2badf9a\",\"type\":\"GlyphRenderer\"},{\"id\":\"0fcd0710-f2a2-4201-8acd-4ead51a9812c\",\"type\":\"GlyphRenderer\"},{\"id\":\"f5e6441a-1be1-4412-8c64-f8ca7fb817ab\",\"type\":\"GlyphRenderer\"},{\"id\":\"2377aa01-59d0-4f01-aac1-a55511bc720f\",\"type\":\"Legend\"},{\"id\":\"8bc6579f-5b48-4e95-99cb-c1783bfc21ef\",\"type\":\"CategoricalAxis\"},{\"id\":\"0e7bbe03-d384-4f8a-bab6-00c6adf9066a\",\"type\":\"LinearAxis\"},{\"id\":\"ee65f4bc-ef20-40f5-a15b-88a8f0766e6f\",\"type\":\"Grid\"}],\"title\":{\"id\":\"ca732bab-bdb8-4e1e-ae90-3797908d64f7\",\"type\":\"Title\"},\"tool_events\":{\"id\":\"127fd5d1-1441-4bd6-b207-648be17921e6\",\"type\":\"ToolEvents\"},\"toolbar\":{\"id\":\"ec12494b-d02f-457d-8f33-532b5b80c71f\",\"type\":\"Toolbar\"},\"x_mapper_type\":\"auto\",\"x_range\":{\"id\":\"cff66a93-bf09-417c-852a-9dcec27bcab4\",\"type\":\"FactorRange\"},\"y_mapper_type\":\"auto\",\"y_range\":{\"id\":\"e9ab42fa-fd50-4ea7-9b46-98fe6c078d36\",\"type\":\"Range1d\"}},\"id\":\"eca89c61-7365-41b8-ae12-08d60cc1d7af\",\"subtype\":\"Chart\",\"type\":\"Plot\"},{\"attributes\":{\"data_source\":{\"id\":\"bf2d1da7-44ae-4ca3-81fd-1fec1d3fd185\",\"type\":\"ColumnDataSource\"},\"glyph\":{\"id\":\"d6b30cdc-79d3-44bd-b302-caca4c17c674\",\"type\":\"Rect\"},\"hover_glyph\":null,\"nonselection_glyph\":null,\"selection_glyph\":null},\"id\":\"0fcd0710-f2a2-4201-8acd-4ead51a9812c\",\"type\":\"GlyphRenderer\"},{\"attributes\":{\"plot\":null,\"text\":\"ID por ano\"},\"id\":\"ca732bab-bdb8-4e1e-ae90-3797908d64f7\",\"type\":\"Title\"}],\"root_ids\":[\"eca89c61-7365-41b8-ae12-08d60cc1d7af\"]},\"title\":\"Bokeh Application\",\"version\":\"0.12.4\"}};\n",
       "            var render_items = [{\"docid\":\"4c11e328-1267-41c1-836c-316b4da69324\",\"elementid\":\"5025d645-75dd-4315-bd1c-5c742db943ab\",\"modelid\":\"eca89c61-7365-41b8-ae12-08d60cc1d7af\"}];\n",
       "            \n",
       "            Bokeh.embed.embed_items(docs_json, render_items);\n",
       "          };\n",
       "          if (document.readyState != \"loading\") fn();\n",
       "          else document.addEventListener(\"DOMContentLoaded\", fn);\n",
       "        })();\n",
       "      },\n",
       "      function(Bokeh) {\n",
       "      }\n",
       "    ];\n",
       "  \n",
       "    function run_inline_js() {\n",
       "      \n",
       "      if ((window.Bokeh !== undefined) || (force === true)) {\n",
       "        for (var i = 0; i < inline_js.length; i++) {\n",
       "          inline_js[i](window.Bokeh);\n",
       "        }if (force === true) {\n",
       "          display_loaded();\n",
       "        }} else if (Date.now() < window._bokeh_timeout) {\n",
       "        setTimeout(run_inline_js, 100);\n",
       "      } else if (!window._bokeh_failed_load) {\n",
       "        console.log(\"Bokeh: BokehJS failed to load within specified timeout.\");\n",
       "        window._bokeh_failed_load = true;\n",
       "      } else if (force !== true) {\n",
       "        var cell = $(document.getElementById(\"5025d645-75dd-4315-bd1c-5c742db943ab\")).parents('.cell').data().cell;\n",
       "        cell.output_area.append_execute_result(NB_LOAD_WARNING)\n",
       "      }\n",
       "  \n",
       "    }\n",
       "  \n",
       "    if (window._bokeh_is_loading === 0) {\n",
       "      console.log(\"Bokeh: BokehJS loaded, going straight to plotting\");\n",
       "      run_inline_js();\n",
       "    } else {\n",
       "      load_libs(js_urls, function() {\n",
       "        console.log(\"Bokeh: BokehJS plotting callback run at\", now());\n",
       "        run_inline_js();\n",
       "      });\n",
       "    }\n",
       "  }(this));\n",
       "</script>"
      ]
     },
     "metadata": {},
     "output_type": "display_data"
    }
   ],
   "source": [
    "from bokeh.charts import Bar, Histogram, output_notebook, show\n",
    "\n",
    "p = Bar(id_by_year, values='a_ID', title=\"ID por ano\", color='a_ID')\n",
    "\n",
    "output_notebook()\n",
    "\n",
    "show(p)"
   ]
  },
  {
   "cell_type": "code",
   "execution_count": 17,
   "metadata": {
    "collapsed": true
   },
   "outputs": [],
   "source": [
    "# Load geolocation extracted data\n",
    "students_geolocation = pd.read_csv('students_geolocation.csv')"
   ]
  },
  {
   "cell_type": "code",
   "execution_count": 18,
   "metadata": {
    "collapsed": false
   },
   "outputs": [
    {
     "name": "stdout",
     "output_type": "stream",
     "text": [
      "<class 'pandas.core.frame.DataFrame'>\n",
      "RangeIndex: 900 entries, 0 to 899\n",
      "Data columns (total 7 columns):\n",
      "id               900 non-null int64\n",
      "zipcode          900 non-null int64\n",
      "total_entries    900 non-null int64\n",
      "lat              736 non-null float64\n",
      "lng              736 non-null float64\n",
      "address          736 non-null object\n",
      "distance         736 non-null float64\n",
      "dtypes: float64(3), int64(3), object(1)\n",
      "memory usage: 49.3+ KB\n"
     ]
    }
   ],
   "source": [
    "students_geolocation.info()"
   ]
  },
  {
   "cell_type": "code",
   "execution_count": 19,
   "metadata": {
    "collapsed": false
   },
   "outputs": [
    {
     "data": {
      "text/html": [
       "<div>\n",
       "<table border=\"1\" class=\"dataframe\">\n",
       "  <thead>\n",
       "    <tr style=\"text-align: right;\">\n",
       "      <th></th>\n",
       "      <th>id</th>\n",
       "      <th>zipcode</th>\n",
       "      <th>total_entries</th>\n",
       "      <th>lat</th>\n",
       "      <th>lng</th>\n",
       "      <th>address</th>\n",
       "      <th>distance</th>\n",
       "    </tr>\n",
       "  </thead>\n",
       "  <tbody>\n",
       "    <tr>\n",
       "      <th>0</th>\n",
       "      <td>0</td>\n",
       "      <td>59015430</td>\n",
       "      <td>12</td>\n",
       "      <td>-5.816641</td>\n",
       "      <td>-35.200015</td>\n",
       "      <td>Nova Descoberta, Natal - RN, 59015-430, Brazil</td>\n",
       "      <td>1.815783</td>\n",
       "    </tr>\n",
       "    <tr>\n",
       "      <th>1</th>\n",
       "      <td>1</td>\n",
       "      <td>59073120</td>\n",
       "      <td>6</td>\n",
       "      <td>-5.853337</td>\n",
       "      <td>-35.252804</td>\n",
       "      <td>Planalto, Natal - RN, 59073-120, Brazil</td>\n",
       "      <td>5.749127</td>\n",
       "    </tr>\n",
       "    <tr>\n",
       "      <th>2</th>\n",
       "      <td>2</td>\n",
       "      <td>59072580</td>\n",
       "      <td>12</td>\n",
       "      <td>-5.832998</td>\n",
       "      <td>-35.242542</td>\n",
       "      <td>Cidade Nova, Natal - RN, 59072-580, Brazil</td>\n",
       "      <td>4.114743</td>\n",
       "    </tr>\n",
       "    <tr>\n",
       "      <th>3</th>\n",
       "      <td>3</td>\n",
       "      <td>59088150</td>\n",
       "      <td>9</td>\n",
       "      <td>-5.872282</td>\n",
       "      <td>-35.206600</td>\n",
       "      <td>Neópolis, Natal - RN, 59088-150, Brazil</td>\n",
       "      <td>4.439972</td>\n",
       "    </tr>\n",
       "    <tr>\n",
       "      <th>4</th>\n",
       "      <td>4</td>\n",
       "      <td>59064245</td>\n",
       "      <td>9</td>\n",
       "      <td>NaN</td>\n",
       "      <td>NaN</td>\n",
       "      <td>NaN</td>\n",
       "      <td>NaN</td>\n",
       "    </tr>\n",
       "  </tbody>\n",
       "</table>\n",
       "</div>"
      ],
      "text/plain": [
       "   id   zipcode  total_entries       lat        lng  \\\n",
       "0   0  59015430             12 -5.816641 -35.200015   \n",
       "1   1  59073120              6 -5.853337 -35.252804   \n",
       "2   2  59072580             12 -5.832998 -35.242542   \n",
       "3   3  59088150              9 -5.872282 -35.206600   \n",
       "4   4  59064245              9       NaN        NaN   \n",
       "\n",
       "                                          address  distance  \n",
       "0  Nova Descoberta, Natal - RN, 59015-430, Brazil  1.815783  \n",
       "1         Planalto, Natal - RN, 59073-120, Brazil  5.749127  \n",
       "2      Cidade Nova, Natal - RN, 59072-580, Brazil  4.114743  \n",
       "3         Neópolis, Natal - RN, 59088-150, Brazil  4.439972  \n",
       "4                                             NaN       NaN  "
      ]
     },
     "execution_count": 19,
     "metadata": {},
     "output_type": "execute_result"
    }
   ],
   "source": [
    "students_geolocation.head()"
   ]
  },
  {
   "cell_type": "code",
   "execution_count": null,
   "metadata": {
    "collapsed": true
   },
   "outputs": [],
   "source": []
  }
 ],
 "metadata": {
  "kernelspec": {
   "display_name": "Python 3",
   "language": "python",
   "name": "python3"
  },
  "language_info": {
   "codemirror_mode": {
    "name": "ipython",
    "version": 3
   },
   "file_extension": ".py",
   "mimetype": "text/x-python",
   "name": "python",
   "nbconvert_exporter": "python",
   "pygments_lexer": "ipython3",
   "version": "3.6.0"
  }
 },
 "nbformat": 4,
 "nbformat_minor": 2
}
