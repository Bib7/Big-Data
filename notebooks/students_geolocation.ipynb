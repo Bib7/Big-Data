{
 "cells": [
  {
   "cell_type": "code",
   "execution_count": null,
   "metadata": {
    "collapsed": false
   },
   "outputs": [],
   "source": [
    "!pip install geopy\n",
    "!pip install tqdm"
   ]
  },
  {
   "cell_type": "code",
   "execution_count": null,
   "metadata": {
    "collapsed": true
   },
   "outputs": [],
   "source": [
    "import pandas as pd\n",
    "from geopy.geocoders import GoogleV3\n",
    "from geopy.distance import vincenty\n",
    "from tqdm import tqdm\n",
    "import math"
   ]
  },
  {
   "cell_type": "code",
   "execution_count": null,
   "metadata": {
    "collapsed": false
   },
   "outputs": [],
   "source": [
    "# Load spreadsheet\n",
    "spreadsheet = pd.ExcelFile('datasets/imd_student_blind.xlsx')\n",
    "\n",
    "# Load a sheet into a DataFrame by index\n",
    "imd_student_blind_df = spreadsheet.parse(0)"
   ]
  },
  {
   "cell_type": "code",
   "execution_count": null,
   "metadata": {
    "collapsed": false
   },
   "outputs": [],
   "source": [
    "imd_student_blind_df.head()"
   ]
  },
  {
   "cell_type": "code",
   "execution_count": null,
   "metadata": {
    "collapsed": false
   },
   "outputs": [],
   "source": [
    "list(imd_student_blind_df.columns)"
   ]
  },
  {
   "cell_type": "code",
   "execution_count": null,
   "metadata": {
    "collapsed": false
   },
   "outputs": [],
   "source": [
    "imd_student_blind_df.shape"
   ]
  },
  {
   "cell_type": "code",
   "execution_count": null,
   "metadata": {
    "collapsed": false
   },
   "outputs": [],
   "source": [
    "imd_student_blind_df.info()"
   ]
  },
  {
   "cell_type": "code",
   "execution_count": null,
   "metadata": {
    "collapsed": false
   },
   "outputs": [],
   "source": [
    "students_geolocation_df = pd.DataFrame(\n",
    "    imd_student_blind_df.groupby(['a_ID', 'CEP'])\n",
    "        .size()\n",
    "        .to_frame('total_entries')\n",
    "        .reset_index()\n",
    ")\n",
    "students_geolocation_df.rename(\n",
    "    columns = {\n",
    "        'a_ID' : 'id',\n",
    "        'CEP'  : 'zipcode'\n",
    "    },\n",
    "    inplace = True\n",
    ")"
   ]
  },
  {
   "cell_type": "code",
   "execution_count": null,
   "metadata": {
    "collapsed": false
   },
   "outputs": [],
   "source": [
    "# Initiliaze GoogleV3 geolocator from geopy\n",
    "geolocator = GoogleV3(timeout = 10)\n",
    "\n",
    "# Get geolocation data using zipcode values\n",
    "for i in tqdm(range(len(students_geolocation_df))):\n",
    "    zipcode  = int(students_geolocation_df.loc[i, 'zipcode'])\n",
    "    location = geolocator.geocode(zipcode)\n",
    "    \n",
    "    if location:\n",
    "        students_geolocation_df.loc[i, ['lat', 'lng', 'address']] = [\n",
    "            location.latitude,\n",
    "            location.longitude,\n",
    "            location.address\n",
    "        ]\n",
    "    else:\n",
    "        students_geolocation_df.loc[i, ['lat', 'lng', 'address']] = [None, None, None]\n",
    "\n",
    "print('Geocoding complete!')"
   ]
  },
  {
   "cell_type": "code",
   "execution_count": null,
   "metadata": {
    "collapsed": false
   },
   "outputs": [],
   "source": [
    "# Calculate distance between student and IMD using Vincenty formula\n",
    "# https://en.wikipedia.org/wiki/Vincenty's_formulae\n",
    "\n",
    "imd_coordinates = (-5.832151, -35.205397)\n",
    "\n",
    "for i in tqdm(range(len(students_geolocation_df))):\n",
    "    address = students_geolocation_df.loc[i, 'address']\n",
    "\n",
    "    if address is None:\n",
    "        students_geolocation_df.ix[i, 'distance'] = None\n",
    "    else:\n",
    "        lat = students_geolocation_df.loc[i, 'lat']\n",
    "        lng = students_geolocation_df.loc[i, 'lng']\n",
    "        student_coordinates = (lat, lng)\n",
    "        \n",
    "        distance = vincenty(imd_coordinates, student_coordinates).kilometers\n",
    "        students_geolocation_df.ix[i, 'distance'] = distance"
   ]
  },
  {
   "cell_type": "code",
   "execution_count": null,
   "metadata": {
    "collapsed": false
   },
   "outputs": [],
   "source": [
    "students_geolocation_df.head()"
   ]
  },
  {
   "cell_type": "code",
   "execution_count": null,
   "metadata": {
    "collapsed": true
   },
   "outputs": [],
   "source": [
    "# Save the dataframe to a CSV file\n",
    "students_geolocation_df.to_csv('../datasets/students_geolocation.csv', index = False)"
   ]
  }
 ],
 "metadata": {
  "kernelspec": {
   "display_name": "Python 3",
   "language": "python",
   "name": "python3"
  },
  "language_info": {
   "codemirror_mode": {
    "name": "ipython",
    "version": 3
   },
   "file_extension": ".py",
   "mimetype": "text/x-python",
   "name": "python",
   "nbconvert_exporter": "python",
   "pygments_lexer": "ipython3",
   "version": "3.6.0"
  }
 },
 "nbformat": 4,
 "nbformat_minor": 2
}
