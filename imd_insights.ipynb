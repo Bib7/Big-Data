{
 "cells": [
  {
   "cell_type": "markdown",
   "metadata": {},
   "source": [
    "# Unit 02, Project 04"
   ]
  },
  {
   "cell_type": "code",
   "execution_count": null,
   "metadata": {
    "collapsed": false
   },
   "outputs": [],
   "source": [
    "# Install necessary libraries to run this IPython Notebook\n",
    "!pip install folium"
   ]
  },
  {
   "cell_type": "markdown",
   "metadata": {},
   "source": [
    "## Treatment of data"
   ]
  },
  {
   "cell_type": "code",
   "execution_count": null,
   "metadata": {
    "collapsed": false
   },
   "outputs": [],
   "source": [
    "import pandas as pd\n",
    "import numpy as np\n",
    "import folium\n",
    "from folium.plugins import HeatMap"
   ]
  },
  {
   "cell_type": "code",
   "execution_count": null,
   "metadata": {
    "collapsed": false
   },
   "outputs": [],
   "source": [
    "# Load spreadsheet\n",
    "spreadsheet = pd.ExcelFile('datasets/imd_student_blind.xlsx')\n",
    "\n",
    "# Load a sheet into a DataFrame by index\n",
    "imd_student_blind_df = spreadsheet.parse(0)"
   ]
  },
  {
   "cell_type": "code",
   "execution_count": null,
   "metadata": {
    "collapsed": false
   },
   "outputs": [],
   "source": [
    "# Replace 'disciplina_ID' for its abreviation name\n",
    "classes_map = {\n",
    "    0: 'DISC_0',\n",
    "    1: 'DISC_1',\n",
    "    2: 'DISC_2',\n",
    "    3: 'DISC_3',\n",
    "    4: 'DISC_4',\n",
    "    5: 'DISC_5',\n",
    "    6: 'DISC_6'\n",
    "}\n",
    "\n",
    "imd_student_blind_df['disciplina_ID'].replace(classes_map, inplace = True)"
   ]
  },
  {
   "cell_type": "code",
   "execution_count": null,
   "metadata": {
    "collapsed": false
   },
   "outputs": [],
   "source": [
    "# Print the head of the DataFrame df\n",
    "imd_student_blind_df.head()"
   ]
  },
  {
   "cell_type": "code",
   "execution_count": null,
   "metadata": {
    "collapsed": false
   },
   "outputs": [],
   "source": [
    "# Print the columns' name\n",
    "imd_student_blind_df.columns"
   ]
  },
  {
   "cell_type": "code",
   "execution_count": null,
   "metadata": {
    "collapsed": false
   },
   "outputs": [],
   "source": [
    "imd_student_blind_df.shape"
   ]
  },
  {
   "cell_type": "code",
   "execution_count": null,
   "metadata": {
    "collapsed": false
   },
   "outputs": [],
   "source": [
    "# Load geolocation extracted data\n",
    "students_geolocation = pd.read_csv('datasets/students_geolocation.csv')"
   ]
  },
  {
   "cell_type": "code",
   "execution_count": null,
   "metadata": {
    "collapsed": false
   },
   "outputs": [],
   "source": [
    "students_geolocation.info()"
   ]
  },
  {
   "cell_type": "code",
   "execution_count": null,
   "metadata": {
    "collapsed": false
   },
   "outputs": [],
   "source": [
    "students_geolocation.head()"
   ]
  },
  {
   "cell_type": "code",
   "execution_count": null,
   "metadata": {
    "collapsed": false
   },
   "outputs": [],
   "source": [
    "grouped_df = imd_student_blind_df.groupby('a_ID')\n",
    "\n",
    "students_summary_df = pd.DataFrame({\n",
    "    'grades_amount':grouped_df['nota'].count(),\n",
    "    'grades_mean': grouped_df['nota'].mean(),\n",
    "    'enem_rating': grouped_df['enem-nota'].mean(),\n",
    "    'enem_math': grouped_df['enem-matematica'].mean(),\n",
    "    'enem_wording': grouped_df['enem-redacao'].mean(),\n",
    "}).reset_index()\n",
    "\n",
    "students_summary_df.rename(\n",
    "    columns = {\n",
    "        'a_ID' : 'id'\n",
    "    },\n",
    "    inplace = True\n",
    ")\n",
    "\n",
    "students_summary_df['distance'] = students_geolocation[students_geolocation['id'] == students_summary_df['id']]['distance']\n",
    "students_summary_df['lat'] = students_geolocation[students_geolocation['id'] == students_summary_df['id']]['lat']\n",
    "students_summary_df['lng'] = students_geolocation[students_geolocation['id'] == students_summary_df['id']]['lng']"
   ]
  },
  {
   "cell_type": "code",
   "execution_count": null,
   "metadata": {
    "collapsed": false
   },
   "outputs": [],
   "source": [
    "students_summary_df.head()"
   ]
  },
  {
   "cell_type": "code",
   "execution_count": null,
   "metadata": {
    "collapsed": false
   },
   "outputs": [],
   "source": [
    "grades_x_distance = pd.DataFrame({\n",
    "    'distance': students_summary_df['distance'],\n",
    "    'grades_mean': students_summary_df['grades_mean']\n",
    "})\n",
    "\n",
    "# Drop NaN values\n",
    "grades_x_distance.dropna(inplace = True)\n",
    "\n",
    "# Get only entries that have less than 30km from distance\n",
    "grades_x_distance = grades_x_distance[grades_x_distance['distance'] < 30]"
   ]
  },
  {
   "cell_type": "code",
   "execution_count": null,
   "metadata": {
    "collapsed": false
   },
   "outputs": [],
   "source": [
    "grades_x_distance.info()"
   ]
  },
  {
   "cell_type": "markdown",
   "metadata": {},
   "source": [
    "# Analysis\n",
    "Right below there're analisis extracted from data interpretation. Theses analysis are divided into 3 groups:\n",
    "- General analysis\n",
    "  - Total students per registration year\n",
    "  - Overview of disciplines by period\n",
    "  - Students outside the course by total of subject statuses\n",
    "  - Geolocation\n",
    "- Subjects\n",
    "  - Key subjects per semester\n",
    "  - Dependents subjects analysis\n",
    "    - DISC_1\n",
    "    - DISC_2\n",
    "- ENEM"
   ]
  },
  {
   "cell_type": "code",
   "execution_count": null,
   "metadata": {
    "collapsed": true
   },
   "outputs": [],
   "source": [
    "# Import modules from Bokeh visualization library\n",
    "from bokeh.charts import Scatter, BoxPlot, Bar, color, Donut\n",
    "from bokeh.layouts import gridplot, row\n",
    "from bokeh.io import output_notebook, show\n",
    "from bokeh.plotting import figure, ColumnDataSource"
   ]
  },
  {
   "cell_type": "markdown",
   "metadata": {},
   "source": [
    "## General analysis"
   ]
  },
  {
   "cell_type": "markdown",
   "metadata": {},
   "source": [
    "### Total students per registration year"
   ]
  },
  {
   "cell_type": "code",
   "execution_count": null,
   "metadata": {
    "collapsed": false
   },
   "outputs": [],
   "source": [
    "id_by_year = imd_student_blind_df[['a_ID', 'ano_ingresso']].drop_duplicates().groupby('ano_ingresso').count()\n",
    "id_by_year\n",
    "\n",
    "p = Bar(id_by_year, values='a_ID', xlabel='Year', ylabel='Total', \n",
    "        title=\"Students per year\", color='a_ID')\n",
    "\n",
    "output_notebook()\n",
    "show(p)"
   ]
  },
  {
   "cell_type": "markdown",
   "metadata": {},
   "source": [
    "### Overview of disciplines by period"
   ]
  },
  {
   "cell_type": "code",
   "execution_count": null,
   "metadata": {
    "collapsed": false
   },
   "outputs": [],
   "source": [
    "# Gráfico\n",
    "graph_lines = figure(plot_width=900, plot_height=300, title=\"Média de nota de cada disciplina, por período letivo\")\n",
    "colors = ['orange', 'blue', 'red', 'green', 'yellow', 'pink', 'purple', 'brown']\n",
    "i = 0\n",
    "\n",
    "# Array\n",
    "ano_periodo_select = ['ano_disciplina', 'periodo_disciplina']\n",
    "\n",
    "# Imprimir linhas de cada disciplina\n",
    "for disciplina_ID in imd_student_blind_df['disciplina_ID'].unique():\n",
    "    # Dados da disciplina\n",
    "    data_disciplina = imd_student_blind_df[imd_student_blind_df['disciplina_ID'] == disciplina_ID]\n",
    "    # Percorre o ano e o período\n",
    "    ano_periodo = data_disciplina[ano_periodo_select].drop_duplicates()\n",
    "    xline = []\n",
    "    yline = []\n",
    "    \n",
    "    for ano in ano_periodo['ano_disciplina'].sort_values().unique():\n",
    "        periodos_data = data_disciplina[data_disciplina['ano_disciplina'] == ano][['periodo_disciplina', 'nota']].sort_values('periodo_disciplina')\n",
    "        for periodo in ano_periodo['periodo_disciplina'].sort_values().unique():\n",
    "            # Se foi no primeiro ou segundo período\n",
    "            if(periodo == 2):\n",
    "                periodo_graph = 5\n",
    "            else:\n",
    "                periodo_graph = 0\n",
    "            # X\n",
    "            ap = \"{0}.{1}\".format(ano, periodo_graph)\n",
    "            xline.append(float(ap))\n",
    "            # Y\n",
    "            media_periodo = periodos_data[periodos_data['periodo_disciplina'] == periodo]['nota'].mean()\n",
    "            yline.append(float(media_periodo))\n",
    "    # Data source para criar a linha\n",
    "    line_disciplina_ds = ColumnDataSource(\n",
    "        data=dict(\n",
    "            x=xline,\n",
    "            y=yline\n",
    "        )\n",
    "    )\n",
    "    title = '{0}'.format(disciplina_ID)\n",
    "    graph_lines.line('x', 'y', line_width=3, source=line_disciplina_ds, legend=title, color=colors[i])\n",
    "    graph_lines.circle(xline, yline, color=colors[i], size=6, alpha=1.0)\n",
    "    i += 1 # Avança no contador de cor\n",
    "    \n",
    "output_notebook()\n",
    "show(graph_lines)"
   ]
  },
  {
   "cell_type": "markdown",
   "metadata": {},
   "source": [
    "### Students outside the course by total of subject statuses"
   ]
  },
  {
   "cell_type": "code",
   "execution_count": null,
   "metadata": {
    "collapsed": false
   },
   "outputs": [],
   "source": [
    "CANCELADO = imd_student_blind_df['status'] == 'CANCELADO'\n",
    "TRANCADO = imd_student_blind_df['status'] == 'TRANCADO'\n",
    "\n",
    "students_out_df = imd_student_blind_df[CANCELADO | TRANCADO]"
   ]
  },
  {
   "cell_type": "code",
   "execution_count": null,
   "metadata": {
    "collapsed": false
   },
   "outputs": [],
   "source": [
    "DISCIPLINA_APROVADO = students_out_df['status.disciplina'] == 'Aprovado'\n",
    "DISCIPLINA_REPROVADO = students_out_df['status.disciplina'] == 'Reprovado'\n",
    "\n",
    "approved_students_df = students_out_df[DISCIPLINA_APROVADO].groupby('disciplina_ID')['a_ID'].agg({\n",
    "    'total': 'count'\n",
    "}).reset_index()\n",
    "\n",
    "additional_column = pd.Series(\n",
    "    'Aprovado',\n",
    "    index = approved_students_df.index,\n",
    "    name  = 'status'\n",
    ")\n",
    "approved_students_df = approved_students_df.join(additional_column)\n",
    "\n",
    "disapproved_students_df = students_out_df[DISCIPLINA_REPROVADO].groupby('disciplina_ID')['a_ID'].agg({\n",
    "    'total': 'count'\n",
    "}).reset_index()\n",
    "\n",
    "additional_column = pd.Series(\n",
    "    'Reprovado',\n",
    "    index = disapproved_students_df.index,\n",
    "    name  = 'status'\n",
    ")\n",
    "disapproved_students_df = disapproved_students_df.join(additional_column)\n",
    "\n",
    "students_out_statuses_df = pd.concat([approved_students_df, disapproved_students_df], ignore_index = True)"
   ]
  },
  {
   "cell_type": "code",
   "execution_count": null,
   "metadata": {
    "collapsed": false
   },
   "outputs": [],
   "source": [
    "p = Bar(\n",
    "        students_out_statuses_df,\n",
    "        label  = 'disciplina_ID',\n",
    "        values = 'total',\n",
    "        group  = 'status',\n",
    "        title  ='Students outside the course by total of subject statuses',\n",
    "        legend = 'top_center',\n",
    "        xlabel = 'Subjects',\n",
    "        ylabel = 'Total statuses', \n",
    "        color  = color(columns = 'status', palette = ['#7BC560', '#F55666'])\n",
    ")\n",
    "\n",
    "output_notebook()\n",
    "\n",
    "show(p)"
   ]
  },
  {
   "cell_type": "markdown",
   "metadata": {},
   "source": [
    "### Geolocation"
   ]
  },
  {
   "cell_type": "code",
   "execution_count": null,
   "metadata": {
    "collapsed": false
   },
   "outputs": [],
   "source": [
    "p_grades_x_distance = Scatter(\n",
    "        grades_x_distance,\n",
    "        x='grades_mean',\n",
    "        y='distance', \n",
    "        xlabel='Grades Mean',\n",
    "        ylabel='Distance from IMD in kilometers',\n",
    "        title='Grades Mean vs Distance from IMD',\n",
    "        plot_width=800, plot_height=400\n",
    ")\n",
    "\n",
    "output_notebook()\n",
    "\n",
    "show(p_grades_x_distance)"
   ]
  },
  {
   "cell_type": "code",
   "execution_count": null,
   "metadata": {
    "collapsed": false,
    "scrolled": false
   },
   "outputs": [],
   "source": [
    "# Create a coordinates list with the filtered data and show the heatmap\n",
    "\n",
    "coordinates = []\n",
    "\n",
    "for i in range(len(students_summary_df)):\n",
    "    if all(~np.isnan([students_summary_df.ix[i,'lat'], students_summary_df.ix[i,'lng']])):\n",
    "        coordinates.append([students_summary_df.ix[i,'lat'], students_summary_df.ix[i,'lng'], students_summary_df.ix[i,'grades_mean']])\n",
    "        \n",
    "f_map = folium.Map(\n",
    "    location = [-5.791659, -35.28385],\n",
    "    zoom_start = 11\n",
    ")\n",
    "\n",
    "HeatMap(coordinates).add_to(f_map)\n",
    "\n",
    "f_map"
   ]
  },
  {
   "cell_type": "markdown",
   "metadata": {},
   "source": [
    "## Subjects"
   ]
  },
  {
   "cell_type": "markdown",
   "metadata": {},
   "source": [
    "### Key subjects per semester"
   ]
  },
  {
   "cell_type": "code",
   "execution_count": null,
   "metadata": {
    "collapsed": false
   },
   "outputs": [],
   "source": [
    "additional_column = pd.Series(\n",
    "    None,\n",
    "    index = imd_student_blind_df.index,\n",
    "    name  = 'semester_code'\n",
    ")\n",
    "imd_student_blind_df = imd_student_blind_df.join(additional_column)"
   ]
  },
  {
   "cell_type": "code",
   "execution_count": null,
   "metadata": {
    "collapsed": true
   },
   "outputs": [],
   "source": [
    "for i in imd_student_blind_df.index:\n",
    "    year = imd_student_blind_df.loc[i, 'ano_disciplina']\n",
    "    semester = imd_student_blind_df.loc[i, 'periodo_disciplina']\n",
    "    imd_student_blind_df.loc[i, 'semester_code'] = str(year) + '.' + str(semester)"
   ]
  },
  {
   "cell_type": "code",
   "execution_count": null,
   "metadata": {
    "collapsed": true
   },
   "outputs": [],
   "source": [
    "students_by_semester_df = imd_student_blind_df.groupby(['a_ID', 'semester_code'])['disciplina_ID'].unique().reset_index()"
   ]
  },
  {
   "cell_type": "code",
   "execution_count": null,
   "metadata": {
    "collapsed": true
   },
   "outputs": [],
   "source": [
    "def enrollments_per_semester(semester_index):\n",
    "    semester_df = students_by_semester_df.groupby(['a_ID']).nth(semester_index).reset_index()\n",
    "\n",
    "    # Rebuild the dataframe with one subject per line\n",
    "    rows = []\n",
    "\n",
    "    _ = semester_df.apply(\n",
    "        lambda row: \n",
    "            [rows.append([row['a_ID'], row['semester_code'], d]) for d in row['disciplina_ID']],\n",
    "         axis=1\n",
    "    )\n",
    "\n",
    "    semester_df = pd.DataFrame(\n",
    "        rows,\n",
    "        columns=['a_ID', 'semester_code', 'disciplina_ID']\n",
    "    ).set_index(['a_ID', 'semester_code'])\n",
    "    semester_df.reset_index(inplace = True)\n",
    "\n",
    "    return semester_df.groupby('disciplina_ID')['a_ID'].count().reset_index()"
   ]
  },
  {
   "cell_type": "code",
   "execution_count": null,
   "metadata": {
    "collapsed": true
   },
   "outputs": [],
   "source": [
    "primary_semester_group_df = enrollments_per_semester(0)\n",
    "secondary_semester_group_df = enrollments_per_semester(1)"
   ]
  },
  {
   "cell_type": "code",
   "execution_count": null,
   "metadata": {
    "collapsed": false
   },
   "outputs": [],
   "source": [
    "def semester_enrollments_bar(df, title):\n",
    "    return Bar(\n",
    "            df,\n",
    "            label  = 'disciplina_ID',\n",
    "            values = 'a_ID',\n",
    "            title  = title,\n",
    "            xlabel = 'Subjects',\n",
    "            ylabel = 'Total enrollments',\n",
    "            color  = 'disciplina_ID'\n",
    "    )\n",
    "\n",
    "\n",
    "primary_semester_bar = semester_enrollments_bar(\n",
    "    primary_semester_group_df, 'Students per subject in the primary semester'\n",
    ")\n",
    "\n",
    "secondary_semester_bar = semester_enrollments_bar(\n",
    "    secondary_semester_group_df, 'Students per subject in the secondary semester'\n",
    ")\n",
    "\n",
    "r = row([primary_semester_bar, secondary_semester_bar], sizing_mode='scale_width')\n",
    "\n",
    "output_notebook()\n",
    "\n",
    "show(r)"
   ]
  },
  {
   "cell_type": "code",
   "execution_count": null,
   "metadata": {
    "collapsed": true
   },
   "outputs": [],
   "source": [
    "# Based on main subjects in the primary semester set its dependents on secondary semester\n",
    "SECONDARY_SUBJECTS = ['DISC_0', 'DISC_3', 'DISC_4', 'DISC_5', 'DISC_6']"
   ]
  },
  {
   "cell_type": "markdown",
   "metadata": {
    "collapsed": false
   },
   "source": [
    "### Dependents subjects analysis"
   ]
  },
  {
   "cell_type": "code",
   "execution_count": null,
   "metadata": {
    "collapsed": true
   },
   "outputs": [],
   "source": [
    "def get_group_by_grade(grade):\n",
    "    if(grade >= 5 and grade < 6):\n",
    "        return '5 < 6'\n",
    "    if(grade >= 6 and grade < 7):\n",
    "        return '6 < 7'\n",
    "    if(grade >= 7 and grade < 8):\n",
    "        return '7 < 8'\n",
    "    if(grade >= 8 and grade < 9):\n",
    "        return '8 < 9'\n",
    "    if(grade >= 9):\n",
    "        return '9 - 10'"
   ]
  },
  {
   "cell_type": "code",
   "execution_count": null,
   "metadata": {
    "collapsed": false
   },
   "outputs": [],
   "source": [
    "# Add the lib package to the system path, so that we can include SubjectConnections from there.\n",
    "\n",
    "import os\n",
    "import sys\n",
    "module_path = os.path.abspath(os.path.join('./'))\n",
    "if module_path not in sys.path:\n",
    "    sys.path.append(module_path)\n",
    "    \n",
    "from lib.subject_connections import SubjectConnections"
   ]
  },
  {
   "cell_type": "code",
   "execution_count": null,
   "metadata": {
    "collapsed": true
   },
   "outputs": [],
   "source": [
    "# Generate bar chart by students grouped df\n",
    "\n",
    "def students_grouped_bar(df, title):\n",
    "    return Bar(\n",
    "            df,\n",
    "            label  = 'grade_group',\n",
    "            values = 'amount',\n",
    "            title  = title,\n",
    "            xlabel = 'Grade groups',\n",
    "            ylabel = 'Total approved students',\n",
    "            color  = 'grade_group',\n",
    "            legend='top_right',\n",
    "            plot_height=300\n",
    "            \n",
    "    )"
   ]
  },
  {
   "cell_type": "code",
   "execution_count": null,
   "metadata": {
    "collapsed": true
   },
   "outputs": [],
   "source": [
    "# Helper method to generate boxplot\n",
    "\n",
    "def generate_boxplot(df, base_subject_key, subject_key): \n",
    "    return BoxPlot(\n",
    "        df,\n",
    "        values = '{}_grade'.format(subject_key),\n",
    "        label  = 'grade_group',\n",
    "        color  = 'grade_group',\n",
    "        xlabel = '{} grade groups'.format(base_subject_key),\n",
    "        ylabel = '{} grades'.format(subject_key), \n",
    "        title  = '{} student grades (first enrollment) grouped by {} grades'.format(subject_key, base_subject_key)\n",
    "    )"
   ]
  },
  {
   "cell_type": "code",
   "execution_count": null,
   "metadata": {
    "collapsed": true
   },
   "outputs": [],
   "source": [
    "# Generate boxplot list based on SubjectConnections instance\n",
    "\n",
    "def dependent_subjects_list(list, subj_connection, base_subject):\n",
    "    boxplot_list = []\n",
    "\n",
    "    for subject in list:\n",
    "        column_name = '{}_grade'.format(subject)\n",
    "\n",
    "        students_df = imd_student_blind_df[imd_student_blind_df['disciplina_ID'] == subject]\n",
    "        df = subj_connection.obtain_values_from(students_df, column_name, ['grade_group'])\n",
    "        \n",
    "        grade_groups_mean_df = df.groupby('grade_group')[column_name].mean().reset_index()\n",
    "        \n",
    "        box = generate_boxplot(df, base_subject, subject)\n",
    "        box.line(x = grade_groups_mean_df['grade_group'], y = grade_groups_mean_df[column_name], line_width = 2, line_color = '#2C3E50')\n",
    "        box.circle(x = grade_groups_mean_df['grade_group'], y = grade_groups_mean_df[column_name], color = \"#F1C40F\", size = 5)\n",
    "\n",
    "        boxplot_list.append(box)\n",
    "    \n",
    "    return boxplot_list"
   ]
  },
  {
   "cell_type": "markdown",
   "metadata": {},
   "source": [
    "#### DISC_1"
   ]
  },
  {
   "cell_type": "code",
   "execution_count": null,
   "metadata": {
    "collapsed": false
   },
   "outputs": [],
   "source": [
    "DISC_1_student = imd_student_blind_df['disciplina_ID'] == 'DISC_1'\n",
    "has_approved_status = imd_student_blind_df['status.disciplina'] == 'Aprovado'\n",
    "\n",
    "DISC_1_students_df = imd_student_blind_df[DISC_1_student & has_approved_status]\n",
    "\n",
    "DISC_1_connections = SubjectConnections(DISC_1_students_df, 'a_ID')\n",
    "DISC_1_connections.parse_column('nota', 'grade_group', get_group_by_grade)"
   ]
  },
  {
   "cell_type": "code",
   "execution_count": null,
   "metadata": {
    "collapsed": false
   },
   "outputs": [],
   "source": [
    "total_approved_DISC_1_by_group = DISC_1_connections.base_df.groupby('grade_group', as_index=False)['a_ID'].agg({\n",
    "    'amount': 'count'\n",
    "})\n",
    "\n",
    "b = students_grouped_bar(total_approved_DISC_1_by_group, 'Total approved students on DISC_1 by grade group')\n",
    "\n",
    "output_notebook()\n",
    "show(b)"
   ]
  },
  {
   "cell_type": "code",
   "execution_count": null,
   "metadata": {
    "collapsed": false
   },
   "outputs": [],
   "source": [
    "boxplots = dependent_subjects_list(\n",
    "    SECONDARY_SUBJECTS, DISC_1_connections, 'DISC_1'\n",
    ")\n",
    "\n",
    "grid = gridplot(boxplots, ncols=2, plot_width=460, plot_height=400)\n",
    "\n",
    "output_notebook()\n",
    "show(grid)"
   ]
  },
  {
   "cell_type": "markdown",
   "metadata": {},
   "source": [
    "#### DISC_2"
   ]
  },
  {
   "cell_type": "code",
   "execution_count": null,
   "metadata": {
    "collapsed": false
   },
   "outputs": [],
   "source": [
    "DISC_2_student = imd_student_blind_df['disciplina_ID'] == 'DISC_2'\n",
    "has_approved_status = imd_student_blind_df['status.disciplina'] == 'Aprovado'\n",
    "\n",
    "DISC_2_students_df = imd_student_blind_df[DISC_2_student & has_approved_status]\n",
    "\n",
    "DISC_2_connections = SubjectConnections(DISC_2_students_df, 'a_ID')\n",
    "DISC_2_connections.parse_column('nota', 'grade_group', get_group_by_grade)"
   ]
  },
  {
   "cell_type": "code",
   "execution_count": null,
   "metadata": {
    "collapsed": false
   },
   "outputs": [],
   "source": [
    "total_approved_DISC_2_by_group = DISC_2_connections.base_df.groupby('grade_group', as_index=False)['a_ID'].agg({\n",
    "    'amount': 'count'\n",
    "})\n",
    "\n",
    "b = students_grouped_bar(total_approved_DISC_2_by_group, 'Total approved students on DISC_2 by grade group')\n",
    "\n",
    "output_notebook()\n",
    "show(b)"
   ]
  },
  {
   "cell_type": "code",
   "execution_count": null,
   "metadata": {
    "collapsed": false,
    "scrolled": true
   },
   "outputs": [],
   "source": [
    "boxplots = dependent_subjects_list(\n",
    "    SECONDARY_SUBJECTS, DISC_2_connections, 'DISC_2'\n",
    ")\n",
    "\n",
    "grid = gridplot(boxplots, ncols=2, plot_width=460, plot_height=400)\n",
    "\n",
    "output_notebook()\n",
    "show(grid)"
   ]
  },
  {
   "cell_type": "markdown",
   "metadata": {
    "collapsed": true
   },
   "source": [
    "## Enem Analysis"
   ]
  },
  {
   "cell_type": "code",
   "execution_count": null,
   "metadata": {
    "collapsed": false
   },
   "outputs": [],
   "source": [
    "grades_x_enem = pd.DataFrame({\n",
    "    'enem_rating': students_summary_df['enem_rating'],\n",
    "    'grades_mean': students_summary_df['grades_mean'],\n",
    "})\n",
    "\n",
    "\n",
    "# Drop NaN values\n",
    "grades_x_enem.dropna(inplace = True)\n",
    "\n",
    "p_grades_x_enem = Scatter(\n",
    "        grades_x_enem,\n",
    "        x='grades_mean',\n",
    "        y='enem_rating', \n",
    "        xlabel='Grades Mean',\n",
    "        ylabel='Enem Rating',\n",
    "        title='Grades Mean vs Enem Rating',\n",
    "        plot_width=800, plot_height=400\n",
    ")\n",
    "\n",
    "output_notebook()\n",
    "\n",
    "show(p_grades_x_enem)"
   ]
  },
  {
   "cell_type": "markdown",
   "metadata": {},
   "source": [
    "## Developers\n",
    "- Álvaro Ferreira - [github.com/alvarofpp](https://github.com/alvarofpp)\n",
    "- Gabriel Ribeiro - [github.com/Bib7](https://github.com/Bib7)\n",
    "- Gustavo Rodarte - [github.com/Thussubasa](https://github.com/Thussubasa)\n",
    "- Kaio Max - [github.com/kaiomax](https://github.com/kaiomax)"
   ]
  }
 ],
 "metadata": {
  "kernelspec": {
   "display_name": "Python 3",
   "language": "python",
   "name": "python3"
  },
  "language_info": {
   "codemirror_mode": {
    "name": "ipython",
    "version": 3
   },
   "file_extension": ".py",
   "mimetype": "text/x-python",
   "name": "python",
   "nbconvert_exporter": "python",
   "pygments_lexer": "ipython3",
   "version": "3.6.0"
  }
 },
 "nbformat": 4,
 "nbformat_minor": 2
}
